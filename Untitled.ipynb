{
 "cells": [
  {
   "cell_type": "code",
   "execution_count": 1,
   "metadata": {},
   "outputs": [],
   "source": [
    "import matplotlib.pyplot as plt\n",
    "import numpy as np\n",
    "%matplotlib inline"
   ]
  },
  {
   "cell_type": "code",
   "execution_count": 2,
   "metadata": {},
   "outputs": [],
   "source": [
    "ip = np.load('/data/UCSF-2018-05-04-00-00-00-0001_masks_npy/tiles_64-64_step_8-8/im_c000_z000_t115_p000_r96-160_c96-160_sl0-1.npy')\n",
    "tar = np.load('/data/UCSF-2018-05-04-00-00-00-0001_masks_npy/tiles_64-64_step_8-8/im_c001_z000_t115_p000_r96-160_c96-160_sl0-1.npy')\n",
    "mask = np.load('/data/UCSF-2018-05-04-00-00-00-0001_masks_npy/tiles_64-64_step_8-8/im_c002_z000_t115_p000_r96-160_c96-160_sl0-1.npy')"
   ]
  },
  {
   "cell_type": "code",
   "execution_count": 13,
   "metadata": {},
   "outputs": [
    {
     "name": "stdout",
     "output_type": "stream",
     "text": [
      "0.009846371943233123 10.231163463866357 float64\n"
     ]
    },
    {
     "data": {
      "text/plain": [
       "<matplotlib.image.AxesImage at 0x7f158f4fb400>"
      ]
     },
     "execution_count": 13,
     "metadata": {},
     "output_type": "execute_result"
    },
    {
     "data": {
      "image/png": "[encoded data removed]",
      "text/plain": [
       "<Figure size 1080x360 with 3 Axes>"
      ]
     },
     "metadata": {
      "needs_background": "light"
     },
     "output_type": "display_data"
    }
   ],
   "source": [
    "print(mask.min(), mask.max(), mask.dtype)\n",
    "f, ax = plt.subplots(1, 3)\n",
    "f.set_size_inches(15, 5)\n",
    "ax[0].imshow(ip[0])\n",
    "ax[1].imshow(tar[0])\n",
    "ax[2].imshow(mask[0])"
   ]
  },
  {
   "cell_type": "code",
   "execution_count": 2,
   "metadata": {},
   "outputs": [
    {
     "name": "stderr",
     "output_type": "stream",
     "text": [
      "Using TensorFlow backend.\n"
     ]
    }
   ],
   "source": [
    "from micro_dl.input.dataset_with_mask import DataSetWithMask\n",
    "from micro_dl.input.training_table import BaseTrainingTable\n",
    "from micro_dl.utils import aux_utils\n",
    "import pandas as pd"
   ]
  },
  {
   "cell_type": "code",
   "execution_count": 3,
   "metadata": {},
   "outputs": [],
   "source": [
    "frames_meta = pd.read_csv('/data/UCSF-2018-05-04-00-00-00-0001_masks_npy/tiles_64-64_step_8-8/frames_meta.csv')\n",
    "tiles_meta = aux_utils.sort_meta_by_channel(frames_meta)\n",
    "\n",
    "tt = BaseTrainingTable(\n",
    "        df_metadata=tiles_meta,\n",
    "        input_channels=[0],\n",
    "        target_channels=[1],\n",
    "        split_by_column='time_idx',\n",
    "        split_ratio={'train': 0.7, 'val': 0.15, 'test': 0.15},\n",
    "        mask_channels=[2],\n",
    "        random_seed=42\n",
    "    )\n",
    "all_metadata, split_samples = tt.train_test_split()\n",
    "\n",
    "ds = DataSetWithMask(tile_dir='/data/UCSF-2018-05-04-00-00-00-0001_masks_npy/tiles_64-64_step_8-8',\n",
    "                     input_fnames=all_metadata['df_test']['fpaths_input'],\n",
    "                     target_fnames=all_metadata['df_test']['fpaths_target'],\n",
    "                     mask_fnames=all_metadata['df_test']['fpaths_mask'],\n",
    "                     dataset_config={'model_task': 'segmentation', 'height':64, 'width':64},\n",
    "                     batch_size=32,\n",
    "                     image_format='zyx')\n",
    "                 \n"
   ]
  },
  {
   "cell_type": "code",
   "execution_count": 4,
   "metadata": {},
   "outputs": [
    {
     "name": "stdout",
     "output_type": "stream",
     "text": [
      "tar: uint8 (1, 1, 64, 64) 0 255\n",
      "mask: float64 (1, 1, 64, 64) 0.011681981498705219 1.0000822943595895\n",
      "tar: uint8 (1, 1, 64, 64) 0 0\n",
      "mask: float64 (1, 1, 64, 64) 1.0 1.0\n",
      "tar: uint8 (1, 1, 64, 64) 0 0\n",
      "mask: float64 (1, 1, 64, 64) 1.0 1.0000000006878744\n",
      "tar: uint8 (1, 1, 64, 64) 0 0\n",
      "mask: float64 (1, 1, 64, 64) 1.0 1.0000088284551534\n",
      "tar: uint8 (1, 1, 64, 64) 0 0\n",
      "mask: float64 (1, 1, 64, 64) 1.0 1.0\n",
      "tar: uint8 (1, 1, 64, 64) 0 255\n",
      "mask: float64 (1, 1, 64, 64) 0.00922432511511157 1.0\n",
      "tar: uint8 (1, 1, 64, 64) 0 0\n",
      "mask: float64 (1, 1, 64, 64) 1.0 1.0\n",
      "tar: uint8 (1, 1, 64, 64) 0 0\n",
      "mask: float64 (1, 1, 64, 64) 1.0 1.0\n",
      "tar: uint8 (1, 1, 64, 64) 0 0\n",
      "mask: float64 (1, 1, 64, 64) 1.0 1.0\n",
      "tar: uint8 (1, 1, 64, 64) 0 255\n",
      "mask: float64 (1, 1, 64, 64) 0.009854152381099135 1.0\n",
      "tar: uint8 (1, 1, 64, 64) 0 255\n",
      "mask: float64 (1, 1, 64, 64) 0.008583641449254173 9.899690941839392\n",
      "tar: uint8 (1, 1, 64, 64) 0 0\n",
      "mask: float64 (1, 1, 64, 64) 1.0 1.0\n",
      "tar: uint8 (1, 1, 64, 64) 0 0\n",
      "mask: float64 (1, 1, 64, 64) 1.0 1.000000000001733\n",
      "tar: uint8 (1, 1, 64, 64) 0 0\n",
      "mask: float64 (1, 1, 64, 64) 1.0 1.0\n",
      "tar: uint8 (1, 1, 64, 64) 0 0\n",
      "mask: float64 (1, 1, 64, 64) 1.0 1.0\n",
      "tar: uint8 (1, 1, 64, 64) 0 255\n",
      "mask: float64 (1, 1, 64, 64) 0.010278367639521037 1.0\n",
      "tar: uint8 (1, 1, 64, 64) 0 255\n",
      "mask: float64 (1, 1, 64, 64) 0.009721901240274246 1.0\n",
      "tar: uint8 (1, 1, 64, 64) 0 0\n",
      "mask: float64 (1, 1, 64, 64) 1.0 1.0\n",
      "tar: uint8 (1, 1, 64, 64) 0 255\n",
      "mask: float64 (1, 1, 64, 64) 0.008684543667055298 1.0\n",
      "tar: uint8 (1, 1, 64, 64) 0 0\n",
      "mask: float64 (1, 1, 64, 64) 1.0 1.0\n",
      "tar: uint8 (1, 1, 64, 64) 0 0\n",
      "mask: float64 (1, 1, 64, 64) 1.0 1.000000000010953\n",
      "tar: uint8 (1, 1, 64, 64) 0 0\n",
      "mask: float64 (1, 1, 64, 64) 1.0 1.0\n",
      "tar: uint8 (1, 1, 64, 64) 0 0\n",
      "mask: float64 (1, 1, 64, 64) 1.0 1.0\n",
      "tar: uint8 (1, 1, 64, 64) 0 0\n",
      "mask: float64 (1, 1, 64, 64) 1.0 1.0\n",
      "tar: uint8 (1, 1, 64, 64) 0 0\n",
      "mask: float64 (1, 1, 64, 64) 1.0 1.0\n",
      "tar: uint8 (1, 1, 64, 64) 0 0\n",
      "mask: float64 (1, 1, 64, 64) 1.0 1.0\n",
      "tar: uint8 (1, 1, 64, 64) 0 0\n",
      "mask: float64 (1, 1, 64, 64) 1.0 1.0\n",
      "tar: uint8 (1, 1, 64, 64) 0 0\n",
      "mask: float64 (1, 1, 64, 64) 1.0 1.0\n",
      "tar: uint8 (1, 1, 64, 64) 0 0\n",
      "mask: float64 (1, 1, 64, 64) 1.0 1.0\n",
      "tar: uint8 (1, 1, 64, 64) 0 0\n",
      "mask: float64 (1, 1, 64, 64) 1.0 1.0\n",
      "tar: uint8 (1, 1, 64, 64) 0 255\n",
      "mask: float64 (1, 1, 64, 64) 0.010184931849973603 1.0\n",
      "tar: uint8 (1, 1, 64, 64) 0 0\n",
      "mask: float64 (1, 1, 64, 64) 1.0 1.0\n"
     ]
    }
   ],
   "source": [
    "cur_ip, cur_tar = ds.__getitem__(0)"
   ]
  },
  {
   "cell_type": "code",
   "execution_count": 8,
   "metadata": {},
   "outputs": [
    {
     "name": "stdout",
     "output_type": "stream",
     "text": [
      "(32, 1, 1, 64, 64) (32, 2, 1, 64, 64)\n"
     ]
    }
   ],
   "source": [
    "print(cur_ip.shape, cur_tar.shape)"
   ]
  },
  {
   "cell_type": "code",
   "execution_count": 16,
   "metadata": {},
   "outputs": [
    {
     "data": {
      "text/plain": [
       "<matplotlib.image.AxesImage at 0x7f3b5076a198>"
      ]
     },
     "execution_count": 16,
     "metadata": {},
     "output_type": "execute_result"
    },
    {
     "data": {
      "image/png": "[encoded data removed]",
      "text/plain": [
       "<Figure size 1080x360 with 3 Axes>"
      ]
     },
     "metadata": {
      "needs_background": "light"
     },
     "output_type": "display_data"
    }
   ],
   "source": [
    "f, ax = plt.subplots(1, 3)\n",
    "f.set_size_inches(15, 5)\n",
    "ax[0].imshow(cur_ip[31, 0, 0], cmap='gray')\n",
    "ax[1].imshow(cur_tar[31, 0, 0], cmap='gray')\n",
    "ax[2].imshow(cur_tar[31, 1, 0], cmap='gray')"
   ]
  },
  {
   "cell_type": "code",
   "execution_count": 17,
   "metadata": {},
   "outputs": [
    {
     "name": "stdout",
     "output_type": "stream",
     "text": [
      "0.0 255.0 float64\n"
     ]
    }
   ],
   "source": [
    "print(cur_tar[31,0,0].min(), cur_tar[31,0,0].max(), cur_tar[31,0,0].dtype)"
   ]
  },
  {
   "cell_type": "code",
   "execution_count": null,
   "metadata": {},
   "outputs": [],
   "source": []
  }
 ],
 "metadata": {
  "kernelspec": {
   "display_name": "Python 3",
   "language": "python",
   "name": "python3"
  },
  "language_info": {
   "codemirror_mode": {
    "name": "ipython",
    "version": 3
   },
   "file_extension": ".py",
   "mimetype": "text/x-python",
   "name": "python",
   "nbconvert_exporter": "python",
   "pygments_lexer": "ipython3",
   "version": "3.6.8"
  }
 },
 "nbformat": 4,
 "nbformat_minor": 2
}
