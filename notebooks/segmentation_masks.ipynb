{
 "cells": [
  {
   "cell_type": "markdown",
   "metadata": {},
   "source": [
    "# Demonstrate the MaskCreator properties for microDL image segmentation\n",
    "\n",
    "The mask creation code lives in gen_masks_seg, and outside of this notebook it can be run with the CLI create_segmentation_masks.py in the cli folder."
   ]
  },
  {
   "cell_type": "code",
   "execution_count": null,
   "metadata": {},
   "outputs": [],
   "source": [
    "import importlib\n",
    "import os\n",
    "\n",
    "import micro_dl.input.gen_masks_seg as gen_mask\n",
    "importlib.reload(gen_mask)\n",
    "\n",
    "# input_dir = '/data/anitha/label_free_ff/split_images'\n",
    "# output_dir = '/data/anitha/label_free_ff/image_tile_256-256_step_64-64_vf-0.15'\n",
    "\n",
    "input_dir = \"/Users/jenny.folkesson/Data/testdata/\"\n",
    "output_dir = \"/Users/jenny.folkesson/Data/processed_data/image_tile_256-256_step_256-256/\"\n",
    "\n",
    "mask_inst = gen_mask.MaskCreator(input_dir=input_dir,\n",
    "                        input_channel_id=0,\n",
    "                        output_dir=output_dir,\n",
    "                        output_channel_id=4,\n",
    "                        correct_flat_field=False)"
   ]
  },
  {
   "cell_type": "markdown",
   "metadata": {},
   "source": [
    "Create masks from input channel 0 and save them in channel 4."
   ]
  },
  {
   "cell_type": "code",
   "execution_count": null,
   "metadata": {},
   "outputs": [],
   "source": [
    "mask_inst.create_masks_for_stack()"
   ]
  },
  {
   "cell_type": "markdown",
   "metadata": {},
   "source": [
    "This will tile the masks in the same way the rest of the images are tiled, but it assumes you have a pickled file with all file names and crop indices."
   ]
  },
  {
   "cell_type": "code",
   "execution_count": null,
   "metadata": {},
   "outputs": [],
   "source": [
    "# mask_dir = ['/data/anitha/label_free_ff/split_images/timepoint_0/channel_4']\n",
    "# tile_idx_fname = '/data/anitha/label_free_ff/split_images/timepoint_0/mask_0-1_vf-0.15.pkl'\n",
    "\n",
    "mask_dir = \"/Users/jenny.folkesson/Data/testdata/timepoint_0/channel_4/\"\n",
    "tile_idx_fname = None\n",
    "\n",
    "meta_info = mask_inst.tile_mask_stack(input_mask_dir=mask_dir,\n",
    "                                      tile_index_fname=tile_idx_fname,\n",
    "                                      tile_size=[256, 256],\n",
    "                                      step_size=[256, 256])"
   ]
  },
  {
   "cell_type": "markdown",
   "metadata": {},
   "source": [
    "Plot the mask, image and image with contours overlaid in green side by side."
   ]
  },
  {
   "cell_type": "code",
   "execution_count": null,
   "metadata": {},
   "outputs": [],
   "source": [
    "import cv2\n",
    "import matplotlib.pyplot as plt\n",
    "%matplotlib inline\n",
    "import numpy as np"
   ]
  },
  {
   "cell_type": "code",
   "execution_count": null,
   "metadata": {},
   "outputs": [],
   "source": [
    "# mask = np.load('/data/anitha/label_free_ff/split_images/timepoint_0/channel_4/image_n249_z0.npy')\n",
    "# im = np.load('/data/anitha/label_free_ff/split_images/timepoint_0/channel_0/image_n249_z0.npy')\n",
    "\n",
    "im = cv2.imread(\"/Users/jenny.folkesson/Data/testdata/timepoint_0/channel_0/image_n15_z0.png\", cv2.IMREAD_ANYDEPTH)\n",
    "mask = np.load(\"/Users/jenny.folkesson/Data/testdata/timepoint_0/channel_4/image_n15_z0.png.npy\")\n",
    "\n",
    "# Convert image to uint8 color, scale to 255, and overlay a color contour\n",
    "im_rgb = im / im.max() * 255\n",
    "im_rgb = im_rgb.astype(np.uint8)\n",
    "im_rgb = cv2.cvtColor(im_rgb, cv2.COLOR_GRAY2RGB)\n",
    "_, contours, _ = cv2.findContours(mask.astype(np.uint8),\n",
    "                                  cv2.RETR_TREE,\n",
    "                                  cv2.CHAIN_APPROX_SIMPLE)\n",
    "# Draw contours in green with linewidth 3\n",
    "im_rgb = cv2.drawContours(im_rgb, contours, -1, (0, 255, 0), 3)\n",
    "\n",
    "fig, ax = plt.subplots(1,3)\n",
    "fig.set_size_inches(15, 5)\n",
    "ax[0].imshow(mask, cmap='gray')\n",
    "ax[0].axis('off')\n",
    "ax[1].imshow(im, cmap='gray')\n",
    "ax[1].axis('off')\n",
    "ax[2].imshow(im_rgb)\n",
    "ax[2].axis('off')"
   ]
  },
  {
   "cell_type": "code",
   "execution_count": null,
   "metadata": {},
   "outputs": [],
   "source": []
  }
 ],
 "metadata": {
  "kernelspec": {
   "display_name": "Python 3",
   "language": "python",
   "name": "python3"
  },
  "language_info": {
   "codemirror_mode": {
    "name": "ipython",
    "version": 3
   },
   "file_extension": ".py",
   "mimetype": "text/x-python",
   "name": "python",
   "nbconvert_exporter": "python",
   "pygments_lexer": "ipython3",
   "version": "3.6.5"
  }
 },
 "nbformat": 4,
 "nbformat_minor": 2
}
